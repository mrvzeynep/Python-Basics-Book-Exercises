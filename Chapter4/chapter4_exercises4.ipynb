{
 "cells": [
  {
   "cell_type": "code",
   "execution_count": 8,
   "metadata": {},
   "outputs": [
    {
     "name": "stdout",
     "output_type": "stream",
     "text": [
      "6170\n"
     ]
    }
   ],
   "source": [
    "#exercise 1\n",
    "string_1 = \"1234\"\n",
    "string_1 = int(string_1)\n",
    "string_1\n",
    "print(string_1 * 5 ) "
   ]
  },
  {
   "cell_type": "code",
   "execution_count": 12,
   "metadata": {},
   "outputs": [
    {
     "name": "stdout",
     "output_type": "stream",
     "text": [
      "46912.8\n"
     ]
    }
   ],
   "source": [
    "#exercise 2\n",
    "string_2 = \"23456.4\"\n",
    "string_2 = float(string_2)\n",
    "print(string_2 * 2)"
   ]
  },
  {
   "cell_type": "code",
   "execution_count": 15,
   "metadata": {},
   "outputs": [
    {
     "data": {
      "text/plain": [
       "'I love coding very much since 2021'"
      ]
     },
     "execution_count": 15,
     "metadata": {},
     "output_type": "execute_result"
    }
   ],
   "source": [
    "#exercise 3\n",
    "string_3 = \"I love coding very much since \"\n",
    "integer_1 = 2021\n",
    "value = string_3 + str(integer_1)\n",
    "value\n",
    "\n"
   ]
  },
  {
   "cell_type": "code",
   "execution_count": 19,
   "metadata": {},
   "outputs": [
    {
     "name": "stdout",
     "output_type": "stream",
     "text": [
      "The product of 2 and 4 is 8.0.\n"
     ]
    }
   ],
   "source": [
    "#exercise 4 \n",
    "input_1 = int(input(\"Enter your first number please : \"))\n",
    "input_2 = int(input(\"Enter your second number please : \"))\n",
    "result = print(f\"The product of {input_1} and {input_2} is {float(input_1 * input_2)}.\")\n",
    "result"
   ]
  },
  {
   "cell_type": "code",
   "execution_count": 25,
   "metadata": {},
   "outputs": [
    {
     "data": {
      "text/plain": [
       "'0.2 kg is the weight of the newt.'"
      ]
     },
     "execution_count": 25,
     "metadata": {},
     "output_type": "execute_result"
    }
   ],
   "source": [
    "#exercise 5 \n",
    "weight = float(0.2)\n",
    "animal = str(\"newt\")\n",
    "#new_value = f\"{weight} kg the weight of the {animal}.\"\n",
    "#new_value  = str(weight) + \" kg is the weight of the \" + animal + \".\"\n",
    "new_value = \"{} kg is the weight of the {}.\".format(weight, animal) \n",
    "new_value"
   ]
  },
  {
   "cell_type": "code",
   "execution_count": null,
   "metadata": {},
   "outputs": [],
   "source": []
  }
 ],
 "metadata": {
  "interpreter": {
   "hash": "aee8b7b246df8f9039afb4144a1f6fd8d2ca17a180786b69acc140d282b71a49"
  },
  "kernelspec": {
   "display_name": "Python 3.10.4 64-bit",
   "language": "python",
   "name": "python3"
  },
  "language_info": {
   "codemirror_mode": {
    "name": "ipython",
    "version": 3
   },
   "file_extension": ".py",
   "mimetype": "text/x-python",
   "name": "python",
   "nbconvert_exporter": "python",
   "pygments_lexer": "ipython3",
   "version": "3.10.4"
  },
  "orig_nbformat": 4
 },
 "nbformat": 4,
 "nbformat_minor": 2
}
