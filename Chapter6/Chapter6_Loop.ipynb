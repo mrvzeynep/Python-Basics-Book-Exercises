{
 "cells": [
  {
   "cell_type": "code",
   "execution_count": null,
   "metadata": {},
   "outputs": [],
   "source": [
    "#there are two kinds of loops in Pyhton. while and for loops.\n",
    "#While loops repeat a section of code while some condition is true. \n",
    "# infinite loops aren't inherently bad. Sometimes they are exactly the kind of loop you need.\n",
    "#if you run a program that enters an infinite loop , you can force Python to quit by pressing ctrl + c."
   ]
  },
  {
   "cell_type": "code",
   "execution_count": 1,
   "metadata": {},
   "outputs": [
    {
     "name": "stdout",
     "output_type": "stream",
     "text": [
      "1\n",
      "2\n",
      "3\n",
      "4\n"
     ]
    }
   ],
   "source": [
    "n = 1\n",
    "while n < 5 : \n",
    "    print(n)\n",
    "    n = n + 1 "
   ]
  },
  {
   "cell_type": "code",
   "execution_count": 3,
   "metadata": {},
   "outputs": [
    {
     "name": "stdout",
     "output_type": "stream",
     "text": [
      "That's not a positive number !\n",
      "That's not a positive number !\n",
      "That's not a positive number !\n",
      "That's not a positive number !\n",
      "That's not a positive number !\n",
      "That's not a positive number !\n",
      "That's not a positive number !\n",
      "That's not a positive number !\n",
      "That's not a positive number !\n",
      "That's not a positive number !\n",
      "That's not a positive number !\n"
     ]
    }
   ],
   "source": [
    "num = float(input(\"Enter a positive number : \"))\n",
    "\n",
    "while num <= 0:\n",
    "    print(\"That's not a positive number !\")\n",
    "    num  = float(input(\"Enter a positive number :\"))\n",
    "    "
   ]
  },
  {
   "cell_type": "code",
   "execution_count": null,
   "metadata": {},
   "outputs": [],
   "source": [
    "# a for loop executes a section of code once for each item in a collection of items. \n",
    "#the number of times that the code is executed is determined by the number of items in the collection."
   ]
  },
  {
   "cell_type": "code",
   "execution_count": 4,
   "metadata": {},
   "outputs": [
    {
     "name": "stdout",
     "output_type": "stream",
     "text": [
      "P\n",
      "y\n",
      "t\n",
      "h\n",
      "o\n",
      "n\n"
     ]
    }
   ],
   "source": [
    "for letter in \"Python\" : \n",
    "    print(letter)"
   ]
  },
  {
   "cell_type": "code",
   "execution_count": 5,
   "metadata": {},
   "outputs": [
    {
     "name": "stdout",
     "output_type": "stream",
     "text": [
      "P\n",
      "y\n",
      "t\n",
      "h\n",
      "o\n",
      "n\n"
     ]
    }
   ],
   "source": [
    "word = \"Python\"\n",
    "index = 0 \n",
    "\n",
    "while index < len(word) : \n",
    "    print(word[index])\n",
    "    index = index + 1"
   ]
  },
  {
   "cell_type": "code",
   "execution_count": 9,
   "metadata": {},
   "outputs": [
    {
     "name": "stdout",
     "output_type": "stream",
     "text": [
      "Python\n",
      "Python\n",
      "Python\n"
     ]
    }
   ],
   "source": [
    "#sometimes it's useful to loop over a range of numbers. Python has a handy built-in function range()\n",
    "#that produces just that - a range of numbers.\n",
    "# you can use range(n), where n is any positive number , to execute a loop exactly n times.\n",
    "for n in range(3):\n",
    "    print(\"Python\")\n",
    "\n"
   ]
  },
  {
   "cell_type": "code",
   "execution_count": 10,
   "metadata": {},
   "outputs": [
    {
     "name": "stdout",
     "output_type": "stream",
     "text": [
      "100\n",
      "121\n",
      "144\n",
      "169\n",
      "196\n",
      "225\n",
      "256\n",
      "289\n",
      "324\n",
      "361\n"
     ]
    }
   ],
   "source": [
    "for n in range (10, 20):\n",
    "    print(n * n)\n",
    "    "
   ]
  },
  {
   "cell_type": "code",
   "execution_count": 17,
   "metadata": {},
   "outputs": [
    {
     "name": "stdout",
     "output_type": "stream",
     "text": [
      "When 2 people = the amount will be ₺ 5.00 each\n",
      "When 3 people = the amount will be ₺ 3.33 each\n",
      "When 4 people = the amount will be ₺ 2.50 each\n",
      "When 5 people = the amount will be ₺ 2.00 each\n"
     ]
    }
   ],
   "source": [
    "# exercise \n",
    "#program asks the user to input an amount and then displays how to split that amount between 2,3,4, and 5 people.\n",
    "amount  = float(input(\"Enter an amount : \"))\n",
    "\n",
    "for item in range(2,6):\n",
    "    print(f\"When {item} people = the amount will be ₺{amount / item : .2f} each\")"
   ]
  },
  {
   "cell_type": "code",
   "execution_count": 18,
   "metadata": {},
   "outputs": [
    {
     "name": "stdout",
     "output_type": "stream",
     "text": [
      "n = 1 and j = 4\n",
      "n = 1 and j = 5\n",
      "n = 1 and j = 6\n",
      "n = 2 and j = 4\n",
      "n = 2 and j = 5\n",
      "n = 2 and j = 6\n",
      "n = 3 and j = 4\n",
      "n = 3 and j = 5\n",
      "n = 3 and j = 6\n"
     ]
    }
   ],
   "source": [
    "#nested loops \n",
    "#as long as you indent the code correctly, you can even put loops inside of other loops.\n",
    "#a loop inside of another loop is called a nested loop.\n",
    "\n",
    "for n in range(1,4):\n",
    "    for j in range(4,7):\n",
    "        print(f\"n = {n} and j = {j}\")"
   ]
  },
  {
   "cell_type": "code",
   "execution_count": null,
   "metadata": {},
   "outputs": [],
   "source": []
  }
 ],
 "metadata": {
  "interpreter": {
   "hash": "aee8b7b246df8f9039afb4144a1f6fd8d2ca17a180786b69acc140d282b71a49"
  },
  "kernelspec": {
   "display_name": "Python 3.10.4 64-bit",
   "language": "python",
   "name": "python3"
  },
  "language_info": {
   "codemirror_mode": {
    "name": "ipython",
    "version": 3
   },
   "file_extension": ".py",
   "mimetype": "text/x-python",
   "name": "python",
   "nbconvert_exporter": "python",
   "pygments_lexer": "ipython3",
   "version": "3.10.4"
  },
  "orig_nbformat": 4
 },
 "nbformat": 4,
 "nbformat_minor": 2
}
