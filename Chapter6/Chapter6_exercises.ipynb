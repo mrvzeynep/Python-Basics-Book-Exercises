{
 "cells": [
  {
   "cell_type": "code",
   "execution_count": 7,
   "metadata": {},
   "outputs": [
    {
     "name": "stdout",
     "output_type": "stream",
     "text": [
      "2 to power 3 = 8\n",
      "3 to power 3 = 27\n"
     ]
    }
   ],
   "source": [
    "#exercise 1 - cube\n",
    "def cube(number):\n",
    "    new_number = pow(number , 3)\n",
    "    return new_number\n",
    "\n",
    "print(f\"2 to power 3 = {cube(2)}\")\n",
    "print(f\"3 to power 3 = {cube(3)}\")"
   ]
  },
  {
   "cell_type": "code",
   "execution_count": 8,
   "metadata": {},
   "outputs": [],
   "source": [
    "#exercise 2  - greet\n",
    "def greet(name):\n",
    "    print(f\"Hello {name}\")\n",
    "     "
   ]
  },
  {
   "cell_type": "code",
   "execution_count": 9,
   "metadata": {},
   "outputs": [
    {
     "name": "stdout",
     "output_type": "stream",
     "text": [
      "Hello merve\n"
     ]
    }
   ],
   "source": [
    "greet(\"merve\")"
   ]
  },
  {
   "cell_type": "code",
   "execution_count": 26,
   "metadata": {},
   "outputs": [
    {
     "name": "stdout",
     "output_type": "stream",
     "text": [
      "37.0 degrees C =  98.60 degrees F \n"
     ]
    }
   ],
   "source": [
    "#exercise 3 - temperature - celcius_To_fah\n",
    "celcius = float(input(\"Enter a temperature in degrees C : \"))\n",
    "\n",
    "def convert_cel_to_far(celcius):\n",
    "    fahrenheit = celcius * 9/5 + 32\n",
    "    return fahrenheit\n",
    "\n",
    "print(f\"{celcius} degrees C = {convert_cel_to_far(celcius): .2f} degrees F \")"
   ]
  },
  {
   "cell_type": "code",
   "execution_count": 28,
   "metadata": {},
   "outputs": [
    {
     "name": "stdout",
     "output_type": "stream",
     "text": [
      "72.0 degrees F =  22.22 degrees C  \n"
     ]
    }
   ],
   "source": [
    "#exercise 4 - fah_to_Celcius\n",
    "\n",
    "def convert_far_to_cel(fahrenheit):\n",
    "    celcius = ( fahrenheit - 32 ) * 5 / 9\n",
    "    return celcius\n",
    "\n",
    "fahrenheit = float(input(\"Enter a temperature in degrees F : \"))\n",
    "print (f\"{fahrenheit} degrees F = {convert_far_to_cel( fahrenheit) : .2f} degrees C  \" )\n"
   ]
  },
  {
   "cell_type": "code",
   "execution_count": null,
   "metadata": {},
   "outputs": [],
   "source": []
  }
 ],
 "metadata": {
  "interpreter": {
   "hash": "aee8b7b246df8f9039afb4144a1f6fd8d2ca17a180786b69acc140d282b71a49"
  },
  "kernelspec": {
   "display_name": "Python 3.10.4 64-bit",
   "language": "python",
   "name": "python3"
  },
  "language_info": {
   "codemirror_mode": {
    "name": "ipython",
    "version": 3
   },
   "file_extension": ".py",
   "mimetype": "text/x-python",
   "name": "python",
   "nbconvert_exporter": "python",
   "pygments_lexer": "ipython3",
   "version": "3.10.4"
  },
  "orig_nbformat": 4
 },
 "nbformat": 4,
 "nbformat_minor": 2
}
