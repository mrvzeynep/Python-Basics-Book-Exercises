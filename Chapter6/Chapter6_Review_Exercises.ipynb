{
 "cells": [
  {
   "cell_type": "code",
   "execution_count": 2,
   "metadata": {},
   "outputs": [
    {
     "name": "stdout",
     "output_type": "stream",
     "text": [
      "The value is 2\n",
      "The value is 3\n",
      "The value is 4\n",
      "The value is 5\n",
      "The value is 6\n",
      "The value is 7\n",
      "The value is 8\n",
      "The value is 9\n"
     ]
    }
   ],
   "source": [
    "#write a for loop that prints out the integers 2 through 10, each on a new line, by using the range() function.\n",
    "for item in range(2 , 10):\n",
    "    print(f\"The value is {item}\")\n"
   ]
  },
  {
   "cell_type": "code",
   "execution_count": 7,
   "metadata": {},
   "outputs": [
    {
     "name": "stdout",
     "output_type": "stream",
     "text": [
      "the value is 2\n",
      "the value is 3\n",
      "the value is 4\n",
      "the value is 5\n",
      "the value is 6\n",
      "the value is 7\n",
      "the value is 8\n",
      "the value is 9\n"
     ]
    }
   ],
   "source": [
    "#write a while loop that prints out the integers 2 through 10 \n",
    "index =  2 \n",
    "while index < 10 : \n",
    "   print(f\"the value is {index}\")\n",
    "   index = index + 1\n",
    "\n"
   ]
  },
  {
   "cell_type": "code",
   "execution_count": 12,
   "metadata": {},
   "outputs": [
    {
     "name": "stdout",
     "output_type": "stream",
     "text": [
      "4\n",
      "8\n",
      "16\n"
     ]
    }
   ],
   "source": [
    "\n",
    "#Write a function called doubles() that takes one number as its input and doubles that number. \n",
    "# Then use the doubles() function in a loop to double the number 2 three times, \n",
    "# displaying each result on a separate line. \n",
    "\n",
    "def doubles(number) : \n",
    "    doubled_number = number * 2 \n",
    "    return doubled_number\n",
    "\n",
    "new_number = 2\n",
    "for item in range(0,3) :\n",
    "    new_number = doubles(new_number)\n",
    "    print(new_number)\n",
    "    "
   ]
  },
  {
   "cell_type": "code",
   "execution_count": null,
   "metadata": {},
   "outputs": [],
   "source": []
  }
 ],
 "metadata": {
  "interpreter": {
   "hash": "aee8b7b246df8f9039afb4144a1f6fd8d2ca17a180786b69acc140d282b71a49"
  },
  "kernelspec": {
   "display_name": "Python 3.10.4 64-bit",
   "language": "python",
   "name": "python3"
  },
  "language_info": {
   "codemirror_mode": {
    "name": "ipython",
    "version": 3
   },
   "file_extension": ".py",
   "mimetype": "text/x-python",
   "name": "python",
   "nbconvert_exporter": "python",
   "pygments_lexer": "ipython3",
   "version": "3.10.4"
  },
  "orig_nbformat": 4
 },
 "nbformat": 4,
 "nbformat_minor": 2
}
