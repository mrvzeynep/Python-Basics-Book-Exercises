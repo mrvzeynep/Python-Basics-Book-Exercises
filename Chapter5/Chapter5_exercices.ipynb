{
 "cells": [
  {
   "cell_type": "code",
   "execution_count": 1,
   "metadata": {},
   "outputs": [
    {
     "data": {
      "text/plain": [
       "-2"
      ]
     },
     "execution_count": 1,
     "metadata": {},
     "output_type": "execute_result"
    }
   ],
   "source": [
    "#first, -3 divided by 2 to get -1.5. Then -1.5 rounded down to -2. \n",
    "-3 // 2"
   ]
  },
  {
   "cell_type": "code",
   "execution_count": 2,
   "metadata": {},
   "outputs": [
    {
     "ename": "ZeroDivisionError",
     "evalue": "division by zero",
     "output_type": "error",
     "traceback": [
      "\u001b[0;31m---------------------------------------------------------------------------\u001b[0m",
      "\u001b[0;31mZeroDivisionError\u001b[0m                         Traceback (most recent call last)",
      "\u001b[1;32m/Users/zeynep/learning-python/Chapter5/Chapter5_exercices.ipynb Cell 2'\u001b[0m in \u001b[0;36m<cell line: 1>\u001b[0;34m()\u001b[0m\n\u001b[0;32m----> <a href='vscode-notebook-cell:/Users/zeynep/learning-python/Chapter5/Chapter5_exercices.ipynb#ch0000001?line=0'>1</a>\u001b[0m \u001b[39m1\u001b[39;49m \u001b[39m/\u001b[39;49m \u001b[39m0\u001b[39;49m\n",
      "\u001b[0;31mZeroDivisionError\u001b[0m: division by zero"
     ]
    }
   ],
   "source": [
    "1 / 0"
   ]
  },
  {
   "cell_type": "code",
   "execution_count": 3,
   "metadata": {},
   "outputs": [
    {
     "ename": "ZeroDivisionError",
     "evalue": "integer division or modulo by zero",
     "output_type": "error",
     "traceback": [
      "\u001b[0;31m---------------------------------------------------------------------------\u001b[0m",
      "\u001b[0;31mZeroDivisionError\u001b[0m                         Traceback (most recent call last)",
      "\u001b[1;32m/Users/zeynep/learning-python/Chapter5/Chapter5_exercices.ipynb Cell 3'\u001b[0m in \u001b[0;36m<cell line: 1>\u001b[0;34m()\u001b[0m\n\u001b[0;32m----> <a href='vscode-notebook-cell:/Users/zeynep/learning-python/Chapter5/Chapter5_exercices.ipynb#ch0000002?line=0'>1</a>\u001b[0m \u001b[39m1\u001b[39;49m \u001b[39m%\u001b[39;49m \u001b[39m0\u001b[39;49m\n",
      "\u001b[0;31mZeroDivisionError\u001b[0m: integer division or modulo by zero"
     ]
    }
   ],
   "source": [
    "1 % 0"
   ]
  },
  {
   "cell_type": "code",
   "execution_count": 10,
   "metadata": {},
   "outputs": [
    {
     "name": "stdout",
     "output_type": "stream",
     "text": [
      "1.2 to the power of 3 = 1.7279999999999998\n"
     ]
    }
   ],
   "source": [
    "#exercise exponent\n",
    "input_1 = float(input(\"Enter a base : \"))\n",
    "input_2 = int(input(\"Enter an exponent : \"))\n",
    "new_value = f\"{input_1} to the power of {input_2} = {pow(input_1 , input_2)}\"\n",
    "print(new_value)"
   ]
  },
  {
   "cell_type": "code",
   "execution_count": 11,
   "metadata": {},
   "outputs": [
    {
     "name": "stdout",
     "output_type": "stream",
     "text": [
      "5.432 rounded to 2 decimal places is 5.43\n"
     ]
    }
   ],
   "source": [
    "#exercise round 1\n",
    "new_number = float(input(\"Enter a number : \"))\n",
    "print(f\"{new_number} rounded to 2 decimal places is {round(new_number,2)}\")\n"
   ]
  },
  {
   "cell_type": "code",
   "execution_count": 12,
   "metadata": {},
   "outputs": [
    {
     "name": "stdout",
     "output_type": "stream",
     "text": [
      "The absolute  value of -10 is 10.0\n"
     ]
    }
   ],
   "source": [
    "#exercise abs 1 \n",
    "new_number = int(input(\"Enter a number : \"))\n",
    "print(f\"The absolute  value of {new_number} is {float(abs(new_number))}\")\n"
   ]
  },
  {
   "cell_type": "code",
   "execution_count": 16,
   "metadata": {},
   "outputs": [
    {
     "name": "stdout",
     "output_type": "stream",
     "text": [
      "The difference between 1.5 and 0.5 is an integer ? True!\n"
     ]
    }
   ],
   "source": [
    "#exercise \n",
    "new_number_1 = float(input(\"Enter a number : \"))\n",
    "new_number_2 = float(input(\"Enter another number : \"))\n",
    "print(f\"The difference between {new_number_1} and {new_number_2} is an integer ? {(new_number_1 - new_number_2).is_integer()}!\")"
   ]
  }
 ],
 "metadata": {
  "interpreter": {
   "hash": "aee8b7b246df8f9039afb4144a1f6fd8d2ca17a180786b69acc140d282b71a49"
  },
  "kernelspec": {
   "display_name": "Python 3.10.4 64-bit",
   "language": "python",
   "name": "python3"
  },
  "language_info": {
   "codemirror_mode": {
    "name": "ipython",
    "version": 3
   },
   "file_extension": ".py",
   "mimetype": "text/x-python",
   "name": "python",
   "nbconvert_exporter": "python",
   "pygments_lexer": "ipython3",
   "version": "3.10.4"
  },
  "orig_nbformat": 4
 },
 "nbformat": 4,
 "nbformat_minor": 2
}
